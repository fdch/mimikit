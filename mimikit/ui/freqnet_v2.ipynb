{
 "cells": [
  {
   "cell_type": "code",
   "execution_count": null,
   "id": "1ac6efff",
   "metadata": {
    "scrolled": false,
    "tags": [
     "hide_code",
     "hide_cell",
     "hide_input"
    ]
   },
   "outputs": [],
   "source": [
    "from IPython.display import display, HTML\n",
    "# display(HTML(\"<style>.container { width:95% !important; }</style>\"))\n",
    "\n",
    "import mimikit as mmk\n",
    "import ipywidgets as W\n",
    "import dataclasses as dtc\n",
    "from typing import Optional, Callable, Any, Tuple, List, Dict\n",
    "from IPython.display import display\n",
    "UI = mmk.ui\n",
    "\n",
    "data_cfg = mmk.DatasetConfig()\n",
    "tr_cfg = mmk.TrainARMConfig()\n",
    "net_cfg = mmk.WaveNet.Config(io_spec=mmk.WaveNet.qx_io)\n",
    "\n",
    "class DataView(W.Tab):\n",
    "    \n",
    "    def __init__(self, data_config):\n",
    "        super().__init__(children=[mmk.views.dataset_view(data_config), \n",
    "                                   W.VBox(children=[\n",
    "                                       W.HTML(value=\"<h4>Select Dataset File</h4>\"),\n",
    "                                       UI.DatasetPicker().widget])])\n",
    "        self.set_title(0, \"New Dataset from Soundfiles\")\n",
    "        self.set_title(1, \"Load Dataset File from Disk\")\n",
    "\n",
    "def run(ev):\n",
    "    print(ev)\n",
    "    net = mmk.WaveNet.from_config(net_cfg)\n",
    "    dataset_cls = net.config.io_spec.dataset_class()\n",
    "    dataset_cls.create(data_cfg.destination, data_cfg.sources, mode=\"w\")\n",
    "    db = dataset_cls(data_cfg.destination, mode='r', keep_open=True)\n",
    "    hp = mmk.ARMHP(data_cfg, net_cfg, tr_cfg)\n",
    "    loop = mmk.TrainLoop.from_config(hp, db, net)\n",
    "    loop.run()\n",
    "    \n",
    "submit = W.Button(description=\"RUN\", layout=W.Layout(width=\"100%\"))\n",
    "submit.on_click(run)\n",
    "\n",
    "container = W.VBox([\n",
    "    DataView(data_cfg),\n",
    "    mmk.views.wavenet_view(net_cfg),\n",
    "    mmk.views.train_arm_view(tr_cfg),\n",
    "    submit\n",
    "])\n",
    "\n",
    "display(UI.MMK_STYLE_SHEET, container)"
   ]
  },
  {
   "cell_type": "code",
   "execution_count": null,
   "id": "6e79b6b8",
   "metadata": {},
   "outputs": [],
   "source": [
    "# arm feature view: mulaw, fft, envelop, ...\n",
    "    # kind\n",
    "    # params\n",
    "# io module view\n",
    "    # kind \n",
    "    # params\n",
    "# target objective\n",
    "\n",
    "\n"
   ]
  },
  {
   "cell_type": "code",
   "execution_count": null,
   "id": "21c184ef",
   "metadata": {
    "scrolled": false
   },
   "outputs": [],
   "source": [
    "\n",
    "\n",
    "\n",
    "train_view = mmk.ConfigView(\n",
    "    cfg,\n",
    "    # ---------------------------\n",
    "    UI.Param(\n",
    "        name=\"data\",\n",
    "        widget=),\n",
    "    # ---------------------------\n",
    "    UI.Param(\n",
    "        name=\"network\",\n",
    "        widget=),\n",
    "    # ---------------------------\n",
    "    UI.Param(\n",
    "        name=\"training\",\n",
    "        widget=)\n",
    "    # Layout\n",
    "    # Config Validation\n",
    ")\n",
    "\n",
    "\n",
    "\n",
    "display(*train_view.widgets)"
   ]
  },
  {
   "cell_type": "code",
   "execution_count": null,
   "id": "ede821e3",
   "metadata": {
    "scrolled": true
   },
   "outputs": [],
   "source": [
    "mmk.demos.freqnet.main(cfg)"
   ]
  }
 ],
 "metadata": {
  "hide_input": false,
  "kernelspec": {
   "display_name": "Python 3",
   "language": "python",
   "name": "python3"
  },
  "language_info": {
   "codemirror_mode": {
    "name": "ipython",
    "version": 3
   },
   "file_extension": ".py",
   "mimetype": "text/x-python",
   "name": "python",
   "nbconvert_exporter": "python",
   "pygments_lexer": "ipython3",
   "version": "3.8.8"
  }
 },
 "nbformat": 4,
 "nbformat_minor": 5
}
