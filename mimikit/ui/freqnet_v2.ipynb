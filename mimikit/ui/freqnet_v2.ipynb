{
 "cells": [
  {
   "cell_type": "code",
   "execution_count": 1,
   "id": "1ac6efff",
   "metadata": {
    "scrolled": false,
    "tags": [
     "hide_code",
     "hide_cell",
     "hide_input"
    ]
   },
   "outputs": [
    {
     "data": {
      "application/vnd.jupyter.widget-view+json": {
       "model_id": "8a2865c949a64ee29cdb2cee38b975af",
       "version_major": 2,
       "version_minor": 0
      },
      "text/plain": [
       "HTML(value='\\n<style>\\n\\n.picker-button {\\n    border: 0px !important;\\n    border-radius: 5px !important;\\n  …"
      ]
     },
     "metadata": {},
     "output_type": "display_data"
    },
    {
     "data": {
      "application/vnd.jupyter.widget-view+json": {
       "model_id": "63e053db5e084778afca8cd451b1bad5",
       "version_major": 2,
       "version_minor": 0
      },
      "text/plain": [
       "VBox(children=(Accordion(children=(Tab(children=(AppLayout(children=(HTML(value='<h4>Select Soundfiles</h4>', …"
      ]
     },
     "metadata": {},
     "output_type": "display_data"
    }
   ],
   "source": [
    "from IPython.display import display, HTML\n",
    "# display(HTML(\"<style>.container { width:95% !important; }</style>\"))\n",
    "\n",
    "import mimikit as mmk\n",
    "import ipywidgets as W\n",
    "import dataclasses as dtc\n",
    "from typing import Optional, Callable, Any, Tuple, List, Dict\n",
    "from IPython.display import display\n",
    "\n",
    "UI = mmk.ui\n",
    "\n",
    "data_cfg = mmk.DatasetConfig()\n",
    "\n",
    "display(UI.MMK_STYLE_SHEET, mmk.views.dataset_view(data_cfg))"
   ]
  },
  {
   "cell_type": "code",
   "execution_count": 2,
   "id": "dd490ce9",
   "metadata": {
    "scrolled": false
   },
   "outputs": [
    {
     "data": {
      "application/vnd.jupyter.widget-view+json": {
       "model_id": "5a3141cd875b4975ae73772ef276293c",
       "version_major": 2,
       "version_minor": 0
      },
      "text/plain": [
       "VBox(children=(GridBox(children=(Label(value='select network class: ', layout=Layout(min_width='max_content', …"
      ]
     },
     "metadata": {},
     "output_type": "display_data"
    }
   ],
   "source": [
    "tr_cfg = mmk.TrainARMConfig()\n",
    "\n",
    "NETWORKS = dict(\n",
    "    wavenet=(mmk.WaveNet, mmk.WaveNet.Config(), mmk.wavenet_view),\n",
    "    sample_rnn=(mmk.SampleRNN, mmk.SampleRNN.Config(), mmk.sample_rnn_view)\n",
    ")\n",
    "\n",
    "select_net = UI.EnumWidget(\n",
    "    \"select network class: \",\n",
    "    list(NETWORKS.keys()),\n",
    "    selected_index=0\n",
    ")\n",
    "\n",
    "def run(ev):\n",
    "    net_cls, net_cfg, _ = NETWORKS[select_net.value]\n",
    "    net = net_cls.from_config(net_cfg)\n",
    "    db = data_cfg.get(mode='r', keep_open=True)\n",
    "    hp = mmk.ARMHP(data_cfg, net_cfg, tr_cfg)\n",
    "    loop = mmk.TrainARMLoop.from_config(hp, db, net)\n",
    "    loop.run()\n",
    "\n",
    "\n",
    "submit = W.Button(description=\"RUN\", layout=W.Layout(width=\"90%\"))\n",
    "submit.on_click(run)\n",
    "\n",
    "_, cfg, view_func = NETWORKS['wavenet']\n",
    "\n",
    "container = W.VBox([\n",
    "    select_net,\n",
    "    view_func(cfg),\n",
    "    mmk.views.train_arm_view(tr_cfg), submit\n",
    "])\n",
    "\n",
    "def display_net_config(ev):\n",
    "    _, cfg, view_func = NETWORKS[ev[\"new\"]]\n",
    "    container.children = (select_net, view_func(cfg), *container.children[2:])\n",
    "    \n",
    "select_net.observe(display_net_config, 'value')\n",
    "\n",
    "display(container)\n",
    "\n",
    "select_net.selected_index = 0\n"
   ]
  },
  {
   "cell_type": "code",
   "execution_count": 1,
   "id": "21c184ef",
   "metadata": {
    "scrolled": false
   },
   "outputs": [
    {
     "ename": "SyntaxError",
     "evalue": "invalid syntax (<ipython-input-1-8c80a16fa9b4>, line 6)",
     "output_type": "error",
     "traceback": [
      "\u001b[0;36m  File \u001b[0;32m\"<ipython-input-1-8c80a16fa9b4>\"\u001b[0;36m, line \u001b[0;32m6\u001b[0m\n\u001b[0;31m    widget=),\u001b[0m\n\u001b[0m           ^\u001b[0m\n\u001b[0;31mSyntaxError\u001b[0m\u001b[0;31m:\u001b[0m invalid syntax\n"
     ]
    }
   ],
   "source": [
    "\n",
    "\n",
    "\n",
    "train_view = mmk.ConfigView(\n",
    "    cfg,\n",
    "    # ---------------------------\n",
    "    UI.Param(\n",
    "        name=\"data\",\n",
    "        widget=),\n",
    "    # ---------------------------\n",
    "    UI.Param(\n",
    "        name=\"network\",\n",
    "        widget=),\n",
    "    # ---------------------------\n",
    "    UI.Param(\n",
    "        name=\"training\",\n",
    "        widget=)\n",
    "    # Layout\n",
    "    # Config Validation\n",
    ")\n",
    "\n",
    "\n",
    "\n",
    "display(*train_view.widgets)"
   ]
  },
  {
   "cell_type": "code",
   "execution_count": null,
   "id": "ede821e3",
   "metadata": {
    "scrolled": true
   },
   "outputs": [],
   "source": [
    "mmk.demos.freqnet.main(cfg)"
   ]
  }
 ],
 "metadata": {
  "hide_input": false,
  "kernelspec": {
   "display_name": "Python 3",
   "language": "python",
   "name": "python3"
  },
  "language_info": {
   "codemirror_mode": {
    "name": "ipython",
    "version": 3
   },
   "file_extension": ".py",
   "mimetype": "text/x-python",
   "name": "python",
   "nbconvert_exporter": "python",
   "pygments_lexer": "ipython3",
   "version": "3.8.8"
  }
 },
 "nbformat": 4,
 "nbformat_minor": 5
}
