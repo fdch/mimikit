{
 "cells": [
  {
   "cell_type": "code",
   "execution_count": 1,
   "id": "1ac6efff",
   "metadata": {
    "scrolled": false,
    "tags": [
     "hide_code",
     "hide_cell",
     "hide_input"
    ]
   },
   "outputs": [
    {
     "data": {
      "text/html": [
       "<style>.container { width:95% !important; }</style>"
      ],
      "text/plain": [
       "<IPython.core.display.HTML object>"
      ]
     },
     "metadata": {},
     "output_type": "display_data"
    },
    {
     "data": {
      "application/vnd.jupyter.widget-view+json": {
       "model_id": "5389532e41af4e41a90c35f03a45a45e",
       "version_major": 2,
       "version_minor": 0
      },
      "text/plain": [
       "HTML(value='\\n<style>\\n\\n.picker-button {\\n    border: 0px !important;\\n    border-radius: 5px !important;\\n  …"
      ]
     },
     "metadata": {},
     "output_type": "display_data"
    },
    {
     "data": {
      "application/vnd.jupyter.widget-view+json": {
       "model_id": "d13a6a7e25b246d78de0ccecbcdd7ff5",
       "version_major": 2,
       "version_minor": 0
      },
      "text/plain": [
       "HBox(children=(Accordion(children=(VBox(children=(VBox(children=(HTML(value='<h4>Dataset Filename</h4>', layou…"
      ]
     },
     "metadata": {},
     "output_type": "display_data"
    }
   ],
   "source": [
    "from IPython.display import display, HTML\n",
    "display(HTML(\"<style>.container { width:95% !important; }</style>\"))\n",
    "\n",
    "import mimikit as mmk\n",
    "import ipywidgets as W\n",
    "import dataclasses as dtc\n",
    "from typing import Optional, Callable, Any, Tuple, List, Dict\n",
    "from IPython.display import display\n",
    "UI = mmk.ui\n",
    "\n",
    "data_cfg = mmk.DatasetConfig()\n",
    "tr_cfg = mmk.TrainARMConfig()\n",
    "net_cfg = mmk.WaveNet.Config(io_spec=mmk.WaveNet.qx_io)\n",
    "\n",
    "container = W.HBox([\n",
    "    mmk.views.dataset_view(data_cfg),\n",
    "    mmk.views.wavenet_view(net_cfg),\n",
    "    mmk.views.train_arm_view(tr_cfg)])\n",
    "\n",
    "display(UI.MMK_STYLE_SHEET, container)"
   ]
  },
  {
   "cell_type": "code",
   "execution_count": 2,
   "id": "eb1ab05e",
   "metadata": {},
   "outputs": [
    {
     "data": {
      "application/vnd.jupyter.widget-view+json": {
       "model_id": "48d6ac96dd0f44f9851e7cfc44b0cd6e",
       "version_major": 2,
       "version_minor": 0
      },
      "text/plain": [
       "Accordion(children=(VBox(children=(HBox(children=(Label(value='Frame Sizes', layout=Layout(margin='0 0 0 auto'…"
      ]
     },
     "metadata": {},
     "output_type": "display_data"
    }
   ],
   "source": [
    "cfg = mmk.SampleRNN.Config()\n",
    "label_layout = W.Layout(min_width=\"max-content\", margin=\"0 0 0 auto\")\n",
    "param_layout = W.Layout(width=\"100%\", margin=\"8px 0 8px 0\")\n",
    "\n",
    "\n",
    "view = mmk.ConfigView(\n",
    "    cfg,\n",
    "    UI.Param(\n",
    "        name='frame_sizes',\n",
    "        widget=UI.Labeled(\n",
    "                     W.Label(value=\"Frame Sizes\",\n",
    "                             layout=label_layout),\n",
    "                     W.Text(value=str(cfg.frame_sizes)[1:-1], layout=W.Layout(width=\"75%\", )),\n",
    "                     W.HBox(layout=param_layout), ),\n",
    "         compute=lambda c, v: tuple(map(int, (s for s in v.split(\",\") if s not in (\"\", \" \"))))        \n",
    "    ),\n",
    "    UI.Param(\n",
    "        name='hidden_dim',\n",
    "        widget=UI.pw2_widget(\n",
    "         W.Label(value=\"Hidden Dim: \",\n",
    "                 layout=label_layout, ),\n",
    "         W.Text(value=str(cfg.hidden_dim),\n",
    "                layout=W.Layout(width=\"25%\"), disabled=False),\n",
    "         W.Button(icon=\"plus\", layout=W.Layout(width=\"25%\")),\n",
    "         W.Button(icon=\"minus\", layout=W.Layout(width=\"25%\")),\n",
    "         W.HBox(layout=param_layout)),\n",
    "     compute=lambda c, v: int(v)\n",
    "    ),\n",
    "    UI.Param(\n",
    "        name=\"rnn_class\",\n",
    "        widget=UI.EnumWidget(\n",
    "            W.Label(value=\"Type of RNN: \", layout=label_layout),\n",
    "            [W.ToggleButton(description=\"LSTM\"), W.ToggleButton(description=\"RNN\"), W.ToggleButton(description=\"GRU\")],\n",
    "            W.HBox()\n",
    "        ),\n",
    "        compute=lambda c, v: v.lower()\n",
    "    ),\n",
    ").as_widget(lambda children, **kwargs: W.Accordion([W.VBox(children=children)], **kwargs),\n",
    "                titles=(\"SampleRNN Config\",), selected_index=0, layout=W.Layout(margin=\"0 auto 0 0\", width=\"500px\"))\n",
    "display(view)"
   ]
  },
  {
   "cell_type": "code",
   "execution_count": 3,
   "id": "0d29f09f",
   "metadata": {},
   "outputs": [
    {
     "data": {
      "text/plain": [
       "SampleRNN.Config(io_spec=None, frame_sizes=(16, 8, 8), hidden_dim=256, rnn_class='gru', n_rnn=1, rnn_dropout=0.0, rnn_bias=True, unfold_inputs=False, inputs_mode='sum')"
      ]
     },
     "execution_count": 3,
     "metadata": {},
     "output_type": "execute_result"
    }
   ],
   "source": [
    "cfg"
   ]
  },
  {
   "cell_type": "code",
   "execution_count": 17,
   "id": "21c184ef",
   "metadata": {
    "scrolled": false
   },
   "outputs": [
    {
     "ename": "SyntaxError",
     "evalue": "invalid syntax (<ipython-input-17-8c80a16fa9b4>, line 6)",
     "output_type": "error",
     "traceback": [
      "\u001b[0;36m  File \u001b[0;32m\"<ipython-input-17-8c80a16fa9b4>\"\u001b[0;36m, line \u001b[0;32m6\u001b[0m\n\u001b[0;31m    widget=),\u001b[0m\n\u001b[0m           ^\u001b[0m\n\u001b[0;31mSyntaxError\u001b[0m\u001b[0;31m:\u001b[0m invalid syntax\n"
     ]
    }
   ],
   "source": [
    "\n",
    "\n",
    "\n",
    "train_view = mmk.ConfigView(\n",
    "    cfg,\n",
    "    # ---------------------------\n",
    "    UI.Param(\n",
    "        name=\"data\",\n",
    "        widget=),\n",
    "    # ---------------------------\n",
    "    UI.Param(\n",
    "        name=\"network\",\n",
    "        widget=),\n",
    "    # ---------------------------\n",
    "    UI.Param(\n",
    "        name=\"training\",\n",
    "        widget=)\n",
    "    # Layout\n",
    "    # Config Validation\n",
    ")\n",
    "\n",
    "\n",
    "\n",
    "display(*train_view.widgets)"
   ]
  },
  {
   "cell_type": "code",
   "execution_count": null,
   "id": "ede821e3",
   "metadata": {
    "scrolled": true
   },
   "outputs": [],
   "source": [
    "mmk.demos.freqnet.main(cfg)"
   ]
  }
 ],
 "metadata": {
  "hide_input": false,
  "kernelspec": {
   "display_name": "Python 3",
   "language": "python",
   "name": "python3"
  },
  "language_info": {
   "codemirror_mode": {
    "name": "ipython",
    "version": 3
   },
   "file_extension": ".py",
   "mimetype": "text/x-python",
   "name": "python",
   "nbconvert_exporter": "python",
   "pygments_lexer": "ipython3",
   "version": "3.8.8"
  }
 },
 "nbformat": 4,
 "nbformat_minor": 5
}
