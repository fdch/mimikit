{
 "cells": [
  {
   "cell_type": "code",
   "execution_count": 2,
   "id": "1ac6efff",
   "metadata": {
    "scrolled": false,
    "tags": [
     "hide_code",
     "hide_cell",
     "hide_input"
    ]
   },
   "outputs": [
    {
     "data": {
      "text/html": [
       "<style>.container { width:75% !important; }</style>"
      ],
      "text/plain": [
       "<IPython.core.display.HTML object>"
      ]
     },
     "metadata": {},
     "output_type": "display_data"
    },
    {
     "data": {
      "application/vnd.jupyter.widget-view+json": {
       "model_id": "89accc58b0f54d0a96c2490e9150c460",
       "version_major": 2,
       "version_minor": 0
      },
      "text/plain": [
       "Accordion(children=(VBox(children=(HBox(children=(Label(value='Batch Size: ', layout=Layout(margin='0 0 0 auto…"
      ]
     },
     "metadata": {},
     "output_type": "display_data"
    }
   ],
   "source": [
    "from IPython.display import display, HTML\n",
    "display(HTML(\"<style>.container { width:75% !important; }</style>\"))\n",
    "\n",
    "import mimikit as mmk\n",
    "import ipywidgets as W\n",
    "import dataclasses as dtc\n",
    "from typing import Optional, Callable, Any, Tuple, List, Dict\n",
    "from IPython.display import display\n",
    "UI = mmk.ui\n",
    "\n",
    "cfg = mmk.TrainARMConfig()\n",
    "# print(cfg.serialize())\n",
    "display(mmk.views.train_arm_view(mmk.TrainARMConfig()))"
   ]
  },
  {
   "cell_type": "code",
   "execution_count": null,
   "id": "3826433f",
   "metadata": {},
   "outputs": [],
   "source": []
  },
  {
   "cell_type": "code",
   "execution_count": null,
   "id": "7f1f9298",
   "metadata": {
    "scrolled": false
   },
   "outputs": [],
   "source": [
    "options_style = dict(display=\"flex\", margin=\"4px\",\n",
    "                     justify_content=\"space-between\",\n",
    "#                      justify_items=\"stretch\",\n",
    "                     align_content='stretch',\n",
    "                     flex_flow='row',\n",
    "                     width=\"75%\",\n",
    "#                     flex=\"2 0 auto\"\n",
    "                    )\n",
    "\n",
    "buttons_style = dict()\n",
    "\n",
    "data_acc = mmk.ConfigView(\n",
    "            cfg.data,\n",
    "            UI.Param(name=\"sources\",\n",
    "                    widget=UI.FileWidget().widget),\n",
    "            UI.Param(name=\"sr\",\n",
    "              widget=W.ToggleButtons(description=\"Sample Rate: \", options=[16000, 22050, 32000, 44100], index=1,\n",
    "                                     style=buttons_style,\n",
    "                                     layout=options_style),\n",
    "             ),\n",
    "            UI.Param(name=\"n_fft\", \n",
    "                  widget=W.ToggleButtons(description=\"FFT Size: \", options=[512, 1024, 2048, 4096], index=2, layout=options_style)),\n",
    "            UI.Param(name=\"hop_length\", \n",
    "                 widget=W.ToggleButtons(description=\"Overlapp: \", options=[1, 2, 4, 8], index=2, layout=options_style),\n",
    "                 compute=lambda conf, ov: conf.n_fft // ov,),\n",
    "            UI.Param(name=\"coordinate\",\n",
    "                  widget=W.ToggleButtons(description=\"Coordinates: \", options=[\"magnitude\", \"polar\"], index=0, layout=options_style),\n",
    "                 compute=lambda conf, co: co[:3]),\n",
    "            UI.Param(name=\"db_path\",\n",
    "                    widget=W.Text(value=\"train.h5\", description=\"Db Path: \", layout=options_style))\n",
    "        ).as_widget(lambda children, **kwargs: W.Accordion([W.VBox(children=children)], **kwargs), titles=(\"Data\",), selected_index=0)\n",
    "display(data_acc)"
   ]
  },
  {
   "cell_type": "code",
   "execution_count": 16,
   "id": "430c71cd",
   "metadata": {
    "scrolled": false
   },
   "outputs": [
    {
     "data": {
      "application/vnd.jupyter.widget-view+json": {
       "model_id": "534d173f22c44074af7d2298b36a65d1",
       "version_major": 2,
       "version_minor": 0
      },
      "text/plain": [
       "Accordion(children=(VBox(children=(HBox(children=(Label(value='kernel size', layout=Layout(margin='0 0 0 auto'…"
      ]
     },
     "metadata": {},
     "output_type": "display_data"
    }
   ],
   "source": [
    "cfg = mmk.WaveNet.Config()\n",
    "label_layout = W.Layout(min_width=\"max-content\", margin=\"0 0 0 auto\")\n",
    "param_layout = W.Layout(width=\"100%\", margin=\"8px 0 8px 0\")\n",
    "view = UI.ConfigView(\n",
    "    cfg,\n",
    "    UI.Param(name='kernel_sizes',\n",
    "             widget=UI.Labeled(\n",
    "                 W.Label(\"kernel size\",\n",
    "                         layout=label_layout),\n",
    "                 W.IntText(value=cfg.kernel_sizes[0],\n",
    "                           layout={\"width\": \"100px\", }),\n",
    "                 W.HBox(layout=param_layout)\n",
    "             ),\n",
    "             compute=lambda conf, ev: (ev,)),\n",
    "    UI.Param(name=\"blocks\",\n",
    "             widget=UI.Labeled(\n",
    "                 W.Label(value=\"layers per block\",\n",
    "                         layout=label_layout),\n",
    "                 W.Text(value=str(cfg.blocks)[1:-1], layout=W.Layout(width=\"75%\", )),\n",
    "                 W.HBox(layout=param_layout), ),\n",
    "             compute=lambda c, v: tuple(map(int, (s for s in v.split(\",\") if s not in (\"\", \" \"))))\n",
    "             ),\n",
    "    UI.Param(name=\"dims_dilated\",\n",
    "             widget=UI.pw2_widget(\n",
    "                 W.Label(value=\"$N$ units per layer: \",\n",
    "                         layout=label_layout, ),\n",
    "                 W.Text(value=str(cfg.dims_dilated[0]),\n",
    "                        layout=W.Layout(width=\"25%\"), disabled=False),\n",
    "                 W.Button(icon=\"plus\", layout=W.Layout(width=\"25%\")),\n",
    "                 W.Button(icon=\"minus\", layout=W.Layout(width=\"25%\")),\n",
    "                 W.HBox(layout=param_layout)),\n",
    "             compute=lambda c, v: (int(v),)\n",
    "             ),\n",
    "            UI.Param(name='groups',\n",
    "                 widget=UI.pw2_widget(\n",
    "                 W.Label(value=\"groups of units\",\n",
    "                         layout=label_layout, ),\n",
    "                 W.Text(value=str(cfg.groups),\n",
    "                        layout=W.Layout(width=\"25%\"), disabled=False),\n",
    "                 W.Button(icon=\"plus\", layout=W.Layout(width=\"25%\")),\n",
    "                 W.Button(icon=\"minus\", layout=W.Layout(width=\"25%\")),\n",
    "                 W.HBox(layout=param_layout))\n",
    "                    ),\n",
    "    UI.Param(name=\"residuals_dim\",\n",
    "             widget=UI.yesno_widget(\n",
    "                 label=W.Label(value=\"use residuals\", layout=label_layout),\n",
    "                 container=W.HBox(layout=param_layout),\n",
    "                 initial_value=cfg.residuals_dim is not None,\n",
    "                 buttons_layout=W.Layout(width=\"27.5%\")),\n",
    "             compute=lambda conf, ev: conf.dims_dilated[0] if ev else None\n",
    "             ),\n",
    "    UI.Param(name=\"skips_dim\",\n",
    "             widget=UI.yesno_widget(\n",
    "                 label=W.Label(value=\"use skips\", layout=label_layout),\n",
    "                 container=W.HBox(layout=param_layout),\n",
    "                 initial_value=cfg.residuals_dim is not None,\n",
    "                 buttons_layout=W.Layout(width=\"27.5%\")),\n",
    "             compute=lambda conf, ev: conf.dims_dilated[0] if ev else None\n",
    "             ),\n",
    ").as_widget(lambda children, **kwargs: W.Accordion([W.VBox(children=children)], **kwargs),\n",
    "            titles=(\"WaveNet Config\",), selected_index=0, layout=W.Layout(margin=\"0 auto 0 0\", width=\"500px\"))\n",
    "\n",
    "\n",
    "display(view)"
   ]
  },
  {
   "cell_type": "code",
   "execution_count": 17,
   "id": "7c993698",
   "metadata": {},
   "outputs": [
    {
     "data": {
      "text/plain": [
       "WaveNet.Config(io_spec=None, kernel_sizes=(2,), blocks=(4,), dims_dilated=(128,), dims_1x1=(), residuals_dim=None, apply_residuals=False, skips_dim=None, groups='16', act_f='Tanh', act_g='Sigmoid', pad_side=1, stride=1, bias=True, use_fast_generate=True)"
      ]
     },
     "execution_count": 17,
     "metadata": {},
     "output_type": "execute_result"
    }
   ],
   "source": [
    "cfg"
   ]
  },
  {
   "cell_type": "code",
   "execution_count": null,
   "id": "21c184ef",
   "metadata": {
    "scrolled": false
   },
   "outputs": [],
   "source": [
    "\n",
    "\n",
    "\n",
    "train_view = mmk.ConfigView(\n",
    "    cfg,\n",
    "    # ---------------------------\n",
    "    UI.Param(\n",
    "        name=\"data\",\n",
    "        widget=),\n",
    "    # ---------------------------\n",
    "    UI.Param(\n",
    "        name=\"network\",\n",
    "        widget=),\n",
    "    # ---------------------------\n",
    "    UI.Param(\n",
    "        name=\"training\",\n",
    "        widget=)\n",
    "    # Layout\n",
    "    # Config Validation\n",
    ")\n",
    "\n",
    "\n",
    "\n",
    "display(*train_view.widgets)"
   ]
  },
  {
   "cell_type": "code",
   "execution_count": null,
   "id": "ede821e3",
   "metadata": {
    "scrolled": true
   },
   "outputs": [],
   "source": [
    "mmk.demos.freqnet.main(cfg)"
   ]
  }
 ],
 "metadata": {
  "hide_input": false,
  "kernelspec": {
   "display_name": "Python 3",
   "language": "python",
   "name": "python3"
  },
  "language_info": {
   "codemirror_mode": {
    "name": "ipython",
    "version": 3
   },
   "file_extension": ".py",
   "mimetype": "text/x-python",
   "name": "python",
   "nbconvert_exporter": "python",
   "pygments_lexer": "ipython3",
   "version": "3.8.8"
  }
 },
 "nbformat": 4,
 "nbformat_minor": 5
}
