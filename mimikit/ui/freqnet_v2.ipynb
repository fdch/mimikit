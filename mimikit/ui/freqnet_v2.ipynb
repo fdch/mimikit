{
 "cells": [
  {
   "cell_type": "code",
   "execution_count": null,
   "id": "1ac6efff",
   "metadata": {
    "tags": [
     "hide_code",
     "hide_cell",
     "hide_input"
    ]
   },
   "outputs": [],
   "source": [
    "from IPython.display import display, HTML\n",
    "display(HTML(\"<style>.container { width:75% !important; }</style>\"))\n",
    "\n",
    "import mimikit as mmk\n",
    "import ipywidgets as W\n",
    "import dataclasses as dtc\n",
    "from typing import Optional, Callable, Any, Tuple, List, Dict\n",
    "from IPython.display import display\n",
    "UI = mmk.ui\n",
    "\n",
    "cfg = mmk.TrainFreqnetConfig()"
   ]
  },
  {
   "cell_type": "code",
   "execution_count": null,
   "id": "e9b79d9b",
   "metadata": {},
   "outputs": [],
   "source": [
    "def EnumWidget(\n",
    "        description,\n",
    "        options,\n",
    "        container,\n",
    "        value_type=str,\n",
    "        selected_index=0\n",
    "):\n",
    "    label = W.HTML(value=description,\n",
    "                   layout=W.Layout(\n",
    "                       min_width=\"max-content\", align_self=\"baseline\", margin=\"0 4px 0 4px\", padding=\"0\"),\n",
    "                   disabled=True)\n",
    "    children = [W.ToggleButton(value=False, description=opt, layout=W.Layout(width=\"inherit\")) for opt in options]\n",
    "    container.children = (label, *children)\n",
    "    container.value = options[selected_index] if value_type is str else value_type(options[selected_index])\n",
    "    for i, child in enumerate(children):\n",
    "        def observer(ev, c=child, index=i):\n",
    "            val = ev[\"new\"]\n",
    "            if val:\n",
    "                container.selected_index = index\n",
    "                container.value = c.description if value_type is str else value_type(c.description)\n",
    "                setattr(c, \"button_style\", \"success\")\n",
    "                for other in children:\n",
    "                    if other.value and other is not c:\n",
    "                        other.value = False\n",
    "            else:\n",
    "                c.button_style = \"\"\n",
    "\n",
    "        child.observe(observer, \"value\")\n",
    "    children[selected_index].value = True\n",
    "    return container\n",
    "\n",
    "EnumWidget(\"<b>test: </b>\", [\"1\", \"2\", \"8\", \"12345\", \"8987987987\"],\n",
    "           W.HBox(layout=W.Layout(\n",
    "    width=\"95%\",\n",
    "#     display=\"flex\",\n",
    "#     justify_items=\"stretch\"\n",
    ")), value_type=int)"
   ]
  },
  {
   "cell_type": "code",
   "execution_count": null,
   "id": "df02ac40",
   "metadata": {},
   "outputs": [],
   "source": [
    "def pw2_widget(description, ):\n",
    "    label = W.Label(value=description)\n",
    "    value = W.Text(value=\"4\", layout=W.Layout(width=\"75px\"))\n",
    "    plus = W.Button(icon=\"plus\", layout=W.Layout(width=\"50px\"))\n",
    "    minus = W.Button(icon=\"minus\", layout=W.Layout(width=\"50px\"))\n",
    "    plus.on_click(lambda clk: setattr(value, \"value\", str(int(value.value) * 2)))\n",
    "    minus.on_click(lambda clk: setattr(value, \"value\", str(int(value.value) // 2)))\n",
    "    box = W.HBox([label, minus, value, plus])\n",
    "    # bind value state to box state\n",
    "    box.observe = value.observe\n",
    "    return box"
   ]
  },
  {
   "cell_type": "code",
   "execution_count": null,
   "id": "e7b69c1a",
   "metadata": {},
   "outputs": [],
   "source": [
    "def yesno_widget(initial_value, description, ):\n",
    "    yes = W.ToggleButton(\n",
    "        value=initial_value,\n",
    "        description=\"yes\",\n",
    "        button_style=\"success\" if initial_value else \"\",\n",
    "        layout=W.Layout(width=\"75px\")\n",
    "    )\n",
    "    no = W.ToggleButton(\n",
    "        value=not initial_value,\n",
    "        description=\"no\",\n",
    "        button_style=\"\" if initial_value else \"danger\",\n",
    "        layout=W.Layout(width=\"75px\")\n",
    "    )\n",
    "    desc = W.Label(value=description)\n",
    "\n",
    "    def toggle_yes(ev):\n",
    "        v = ev[\"new\"]\n",
    "        if v:\n",
    "            setattr(yes, \"button_style\", \"success\")\n",
    "            setattr(no, \"button_style\", \"\")\n",
    "            setattr(no, \"value\", False)\n",
    "\n",
    "    def toggle_no(ev):\n",
    "        v = ev[\"new\"]\n",
    "        if v:\n",
    "            setattr(no, \"button_style\", \"danger\")\n",
    "            setattr(yes, \"button_style\", \"\")\n",
    "            setattr(yes, \"value\", False)\n",
    "\n",
    "    yes.observe(toggle_yes, \"value\")\n",
    "    no.observe(toggle_no, \"value\")\n",
    "\n",
    "    box = W.HBox([desc, yes, no])\n",
    "    box.observe = yes.observe\n",
    "    return box"
   ]
  },
  {
   "cell_type": "code",
   "execution_count": null,
   "id": "7f1f9298",
   "metadata": {
    "scrolled": true
   },
   "outputs": [],
   "source": [
    "options_style = dict(display=\"flex\", margin=\"4px\",\n",
    "                     justify_content=\"space-between\",\n",
    "#                      justify_items=\"stretch\",\n",
    "                     align_content='stretch',\n",
    "                     flex_flow='row',\n",
    "                     width=\"75%\",\n",
    "#                     flex=\"2 0 auto\"\n",
    "                    )\n",
    "\n",
    "buttons_style = dict()\n",
    "\n",
    "data_acc = mmk.ConfigView(\n",
    "            cfg.data,\n",
    "            UI.Param(name=\"sources\",\n",
    "                    widget=UI.FileWidget().widget),\n",
    "            UI.Param(name=\"sr\",\n",
    "              widget=W.ToggleButtons(description=\"Sample Rate: \", options=[16000, 22050, 32000, 44100], index=1,\n",
    "                                     style=buttons_style,\n",
    "                                     layout=options_style),\n",
    "             ),\n",
    "            UI.Param(name=\"n_fft\", \n",
    "                  widget=W.ToggleButtons(description=\"FFT Size: \", options=[512, 1024, 2048, 4096], index=2, layout=options_style)),\n",
    "            UI.Param(name=\"hop_length\", \n",
    "                 widget=W.ToggleButtons(description=\"Overlapp: \", options=[1, 2, 4, 8], index=2, layout=options_style),\n",
    "                 compute=lambda conf, ov: conf.n_fft // ov,),\n",
    "            UI.Param(name=\"coordinate\",\n",
    "                  widget=W.ToggleButtons(description=\"Coordinates: \", options=[\"magnitude\", \"polar\"], index=0, layout=options_style),\n",
    "                 compute=lambda conf, co: co[:3]),\n",
    "            UI.Param(name=\"db_path\",\n",
    "                    widget=W.Text(value=\"train.h5\", description=\"Db Path: \", layout=options_style))\n",
    "        ).as_widget(lambda children, **kwargs: W.Accordion([W.VBox(children=children)], **kwargs), titles=(\"Data\",), selected_index=0)\n",
    "display(data_acc)"
   ]
  },
  {
   "cell_type": "code",
   "execution_count": null,
   "id": "179f271f",
   "metadata": {},
   "outputs": [],
   "source": [
    "train_acc = mmk.ConfigView(\n",
    "            cfg.training,\n",
    "            UI.Param(name=\"batch_size\",\n",
    "                  widget=UI.pw2_widget(\"Batch Size: \"),\n",
    "                  compute=lambda conf, v: int(v)\n",
    "                 ),\n",
    "            UI.Param(name=\"MONITOR_TRAINING\",\n",
    "                  widget=UI.yesno_widget(True, \"Monitor Training: \")\n",
    "                 ),\n",
    "            UI.Param(name=\"betas\",\n",
    "                 widget=W.FloatLogSlider(\n",
    "#              description=\"Beta 1\",\n",
    "                 value=.9, min=-.75, max=0., step=.001, base=2,\n",
    "#              layout=W.Layout(display='flex')\n",
    "                 ),\n",
    "                 compute=lambda conf, ev: (ev, conf.betas[1])),\n",
    "            UI.Param(name=\"betas\",\n",
    "                 widget=W.FloatLogSlider(value=.9, min=-.75, max=0., step=.001, base=2),\n",
    "                 compute=lambda conf, ev: (conf.betas[0], ev)),\n",
    "                ).as_widget(lambda children, **kwargs: W.Accordion([W.VBox(children=children)], **kwargs), titles=(\"Training\",), selected_index=0)\n",
    "\n",
    "display(train_acc)"
   ]
  },
  {
   "cell_type": "code",
   "execution_count": null,
   "id": "430c71cd",
   "metadata": {},
   "outputs": [],
   "source": [
    "net_acc = mmk.ConfigView(\n",
    "            cfg.network,\n",
    "            UI.Param(name=\"core\",\n",
    "                    widget=mmk.ConfigView(\n",
    "                        cfg.network.core,\n",
    "                        UI.Param(name=\"blocks\",\n",
    "                                widget=W.Text(value=str(cfg.network.core.blocks)[1:-1], description=\"N layers per block\", layout=options_style,\n",
    "                                             style={'description_width': 'auto'}),\n",
    "                                compute=lambda c, v: tuple(map(int, (s for s in v.split(\",\") if s not in (\"\", \" \"))))),\n",
    "                        UI.Param(name=\"dims_dilated\",\n",
    "                                widget=UI.pw2_widget(\"Number of units per layer: \"),\n",
    "                                compute=lambda c, v: int(v)),\n",
    "                    ).as_widget(W.VBox, ))\n",
    "    ).as_widget(lambda children, **kwargs: W.Accordion([W.VBox(children=children)], **kwargs), titles=(\"Network\",), selected_index=0, layout=dict(width=\"100%\"))\n",
    "\n",
    "display(net_acc)"
   ]
  },
  {
   "cell_type": "code",
   "execution_count": null,
   "id": "21c184ef",
   "metadata": {
    "scrolled": false
   },
   "outputs": [],
   "source": [
    "\n",
    "\n",
    "\n",
    "train_view = mmk.ConfigView(\n",
    "    cfg,\n",
    "    # ---------------------------\n",
    "    UI.Param(\n",
    "        name=\"data\",\n",
    "        widget=),\n",
    "    # ---------------------------\n",
    "    UI.Param(\n",
    "        name=\"network\",\n",
    "        widget=),\n",
    "    # ---------------------------\n",
    "    UI.Param(\n",
    "        name=\"training\",\n",
    "        widget=)\n",
    "    # Layout\n",
    "    # Config Validation\n",
    ")\n",
    "\n",
    "\n",
    "\n",
    "display(*train_view.widgets)"
   ]
  },
  {
   "cell_type": "code",
   "execution_count": null,
   "id": "c5bed709",
   "metadata": {
    "scrolled": true
   },
   "outputs": [],
   "source": [
    "W.FloatLogSlider(value=.9, min=-.75, max=0., step=.001, base=2).__dict__"
   ]
  },
  {
   "cell_type": "code",
   "execution_count": null,
   "id": "523544a4",
   "metadata": {},
   "outputs": [],
   "source": [
    "cfg.network.core"
   ]
  },
  {
   "cell_type": "code",
   "execution_count": null,
   "id": "ba3e9709",
   "metadata": {},
   "outputs": [],
   "source": [
    "\"\"\"\n",
    "PRBLM: Python-config  <<=OMEGACONF=>>  YAML\n",
    "1. use only primitive types in configs\n",
    "    - no Features, not Modules, no functions...\n",
    "2. json\n",
    "\"\"\"\n",
    "\n",
    "from omegaconf import OmegaConf\n",
    "\n",
    "cg = OmegaConf.merge(cfg, OmegaConf.create(OmegaConf.to_yaml(OmegaConf.structured(cfg))))\n",
    "cg = OmegaConf.to_object(cg)\n",
    "cfg, cg"
   ]
  },
  {
   "cell_type": "code",
   "execution_count": null,
   "id": "c688b6b2",
   "metadata": {},
   "outputs": [],
   "source": [
    "from pydantic import BaseModel\n",
    "import dataclasses as dtc\n",
    "\n",
    "class Model(mmk.TrainFreqnetConfig, BaseModel):\n",
    "    pass\n",
    "\n",
    "Model(**dtc.asdict(cfg))"
   ]
  },
  {
   "cell_type": "code",
   "execution_count": null,
   "id": "ede821e3",
   "metadata": {
    "scrolled": true
   },
   "outputs": [],
   "source": [
    "mmk.demos.freqnet.main(cfg)"
   ]
  },
  {
   "cell_type": "code",
   "execution_count": null,
   "id": "1212cdcc",
   "metadata": {},
   "outputs": [],
   "source": [
    "vars(cg.network.core)"
   ]
  },
  {
   "cell_type": "code",
   "execution_count": null,
   "id": "e940f96f",
   "metadata": {},
   "outputs": [],
   "source": []
  }
 ],
 "metadata": {
  "kernelspec": {
   "display_name": "Python 3",
   "language": "python",
   "name": "python3"
  },
  "language_info": {
   "codemirror_mode": {
    "name": "ipython",
    "version": 3
   },
   "file_extension": ".py",
   "mimetype": "text/x-python",
   "name": "python",
   "nbconvert_exporter": "python",
   "pygments_lexer": "ipython3",
   "version": "3.8.8"
  }
 },
 "nbformat": 4,
 "nbformat_minor": 5
}
