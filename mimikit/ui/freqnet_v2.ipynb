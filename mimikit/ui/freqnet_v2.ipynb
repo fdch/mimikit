{
 "cells": [
  {
   "cell_type": "code",
   "execution_count": null,
   "id": "1ac6efff",
   "metadata": {
    "scrolled": false,
    "tags": [
     "hide_code",
     "hide_cell",
     "hide_input"
    ]
   },
   "outputs": [],
   "source": [
    "from IPython.display import display, HTML\n",
    "display(HTML(\"<style>.container { width:75% !important; }</style>\"))\n",
    "\n",
    "import mimikit as mmk\n",
    "import ipywidgets as W\n",
    "import dataclasses as dtc\n",
    "from typing import Optional, Callable, Any, Tuple, List, Dict\n",
    "from IPython.display import display\n",
    "UI = mmk.ui\n",
    "\n",
    "cfg = mmk.TrainARMConfig()\n",
    "# print(cfg.serialize())\n",
    "display(mmk.views.train_arm_view(mmk.TrainARMConfig()))"
   ]
  },
  {
   "cell_type": "code",
   "execution_count": 67,
   "id": "3826433f",
   "metadata": {},
   "outputs": [
    {
     "data": {
      "application/vnd.jupyter.widget-view+json": {
       "model_id": "6850e491079b49639c57a24615943f27",
       "version_major": 2,
       "version_minor": 0
      },
      "text/plain": [
       "FileUpload(value=(), description='Upload', multiple=True)"
      ]
     },
     "metadata": {},
     "output_type": "display_data"
    },
    {
     "name": "stdout",
     "output_type": "stream",
     "text": [
      "{'name': 'Kündigung Potsdam.pdf', 'type': 'application/pdf', 'size': 27865, 'content': <memory at 0x7f96817a3640>, 'last_modified': datetime.datetime(2022, 6, 20, 5, 39, 5, 853000, tzinfo=datetime.timezone.utc)}\n"
     ]
    }
   ],
   "source": [
    "import ipywidgets as widgets\n",
    "from IPython.display import display\n",
    "\n",
    "\n",
    "main_display = widgets.Output()\n",
    "\n",
    "def show_it(inputs):\n",
    "    print(inputs[\"new\"][0])\n",
    "\n",
    "upload = widgets.FileUpload(\n",
    "    accept='',\n",
    "    multiple=True,\n",
    ")\n",
    "\n",
    "upload.observe(show_it, names='value')\n",
    "display(upload)"
   ]
  },
  {
   "cell_type": "code",
   "execution_count": 68,
   "id": "b2eee416",
   "metadata": {},
   "outputs": [
    {
     "ename": "IndexError",
     "evalue": "tuple index out of range",
     "output_type": "error",
     "traceback": [
      "\u001b[0;31m---------------------------------------------------------------------------\u001b[0m",
      "\u001b[0;31mIndexError\u001b[0m                                Traceback (most recent call last)",
      "Input \u001b[0;32mIn [68]\u001b[0m, in \u001b[0;36m<module>\u001b[0;34m\u001b[0m\n\u001b[0;32m----> 1\u001b[0m \u001b[43mupload\u001b[49m\u001b[38;5;241;43m.\u001b[39;49m\u001b[43mvalue\u001b[49m\u001b[43m[\u001b[49m\u001b[38;5;241;43m0\u001b[39;49m\u001b[43m]\u001b[49m\u001b[38;5;241m.\u001b[39mcontent\u001b[38;5;241m.\u001b[39mtobytes()\n",
      "\u001b[0;31mIndexError\u001b[0m: tuple index out of range"
     ]
    }
   ],
   "source": [
    "upload.value[0].content.tobytes()"
   ]
  },
  {
   "cell_type": "code",
   "execution_count": null,
   "id": "7f1f9298",
   "metadata": {
    "scrolled": false
   },
   "outputs": [],
   "source": [
    "options_style = dict(display=\"flex\", margin=\"4px\",\n",
    "                     justify_content=\"space-between\",\n",
    "#                      justify_items=\"stretch\",\n",
    "                     align_content='stretch',\n",
    "                     flex_flow='row',\n",
    "                     width=\"75%\",\n",
    "#                     flex=\"2 0 auto\"\n",
    "                    )\n",
    "\n",
    "buttons_style = dict()\n",
    "\n",
    "data_acc = mmk.ConfigView(\n",
    "            cfg.data,\n",
    "            UI.Param(name=\"sources\",\n",
    "                    widget=UI.FileWidget().widget),\n",
    "            UI.Param(name=\"sr\",\n",
    "              widget=W.ToggleButtons(description=\"Sample Rate: \", options=[16000, 22050, 32000, 44100], index=1,\n",
    "                                     style=buttons_style,\n",
    "                                     layout=options_style),\n",
    "             ),\n",
    "            UI.Param(name=\"n_fft\", \n",
    "                  widget=W.ToggleButtons(description=\"FFT Size: \", options=[512, 1024, 2048, 4096], index=2, layout=options_style)),\n",
    "            UI.Param(name=\"hop_length\", \n",
    "                 widget=W.ToggleButtons(description=\"Overlapp: \", options=[1, 2, 4, 8], index=2, layout=options_style),\n",
    "                 compute=lambda conf, ov: conf.n_fft // ov,),\n",
    "            UI.Param(name=\"coordinate\",\n",
    "                  widget=W.ToggleButtons(description=\"Coordinates: \", options=[\"magnitude\", \"polar\"], index=0, layout=options_style),\n",
    "                 compute=lambda conf, co: co[:3]),\n",
    "            UI.Param(name=\"db_path\",\n",
    "                    widget=W.Text(value=\"train.h5\", description=\"Db Path: \", layout=options_style))\n",
    "        ).as_widget(lambda children, **kwargs: W.Accordion([W.VBox(children=children)], **kwargs), titles=(\"Data\",), selected_index=0)\n",
    "display(data_acc)"
   ]
  },
  {
   "cell_type": "code",
   "execution_count": null,
   "id": "430c71cd",
   "metadata": {},
   "outputs": [],
   "source": [
    "net_acc = mmk.ConfigView(\n",
    "            cfg.network,\n",
    "            UI.Param(name=\"core\",\n",
    "                    widget=mmk.ConfigView(\n",
    "                        cfg.network.core,\n",
    "                        UI.Param(name=\"blocks\",\n",
    "                                widget=UI.Labeled(\n",
    "                                    W.Label(value=\"layers per block\", layout=W.Layout(min_width=\"max-content\", margin=\"0 0 0 auto\")),\n",
    "                                    W.Text(value=str(cfg.network.core.blocks)[1:-1], layout=W.Layout(width=\"75%\",)),\n",
    "                                    W.HBox(layout=W.Layout(width=\"100%\", margin=\"8px 0 8px 0\")),\n",
    "                                ),\n",
    "                                compute=lambda c, v: tuple(map(int, (s for s in v.split(\",\") if s not in (\"\", \" \"))))),\n",
    "                        UI.Param(name=\"dims_dilated\",\n",
    "                                widget=UI.pw2_widget(\n",
    "                                W.Label(value=\"$N$ units per layer: \", layout=W.Layout(min_width=\"max-content\", margin=\"0 0 0 auto\"),),\n",
    "                                W.Text(value=\"64\", layout=W.Layout(width=\"25%\"), disabled=False),\n",
    "                                W.Button(icon=\"plus\", layout=W.Layout(width=\"25%\")),\n",
    "                                W.Button(icon=\"minus\", layout=W.Layout(width=\"25%\")),\n",
    "                                W.HBox(layout=W.Layout(width=\"100%\", margin=\"8px 0 8px 0\"))),\n",
    "                                compute=lambda c, v: int(v)),\n",
    "                    ).as_widget(W.VBox, ))\n",
    "    ).as_widget(lambda children, **kwargs: W.Accordion([W.VBox(children=children)], **kwargs), titles=(\"Network\",), selected_index=0,\n",
    "                layout=dict(width=\"50%\"))\n",
    "\n",
    "display(net_acc)"
   ]
  },
  {
   "cell_type": "code",
   "execution_count": null,
   "id": "21c184ef",
   "metadata": {
    "scrolled": false
   },
   "outputs": [],
   "source": [
    "\n",
    "\n",
    "\n",
    "train_view = mmk.ConfigView(\n",
    "    cfg,\n",
    "    # ---------------------------\n",
    "    UI.Param(\n",
    "        name=\"data\",\n",
    "        widget=),\n",
    "    # ---------------------------\n",
    "    UI.Param(\n",
    "        name=\"network\",\n",
    "        widget=),\n",
    "    # ---------------------------\n",
    "    UI.Param(\n",
    "        name=\"training\",\n",
    "        widget=)\n",
    "    # Layout\n",
    "    # Config Validation\n",
    ")\n",
    "\n",
    "\n",
    "\n",
    "display(*train_view.widgets)"
   ]
  },
  {
   "cell_type": "code",
   "execution_count": null,
   "id": "ede821e3",
   "metadata": {
    "scrolled": true
   },
   "outputs": [],
   "source": [
    "mmk.demos.freqnet.main(cfg)"
   ]
  }
 ],
 "metadata": {
  "hide_input": false,
  "kernelspec": {
   "display_name": "Python 3",
   "language": "python",
   "name": "python3"
  },
  "language_info": {
   "codemirror_mode": {
    "name": "ipython",
    "version": 3
   },
   "file_extension": ".py",
   "mimetype": "text/x-python",
   "name": "python",
   "nbconvert_exporter": "python",
   "pygments_lexer": "ipython3",
   "version": "3.8.8"
  }
 },
 "nbformat": 4,
 "nbformat_minor": 5
}
